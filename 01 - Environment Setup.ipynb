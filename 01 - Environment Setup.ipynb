{
 "cells": [
  {
   "cell_type": "markdown",
   "id": "b792e89f-15b0-415b-b5ea-6a65177424a1",
   "metadata": {},
   "source": [
    "Required for progress meters and other notebook widgets required by the following packages."
   ]
  },
  {
   "cell_type": "code",
   "execution_count": null,
   "id": "945029c1-1d72-4153-b13a-1d7770ea0f99",
   "metadata": {
    "tags": []
   },
   "outputs": [],
   "source": [
    "!pip install ipywidgets"
   ]
  },
  {
   "cell_type": "markdown",
   "id": "c9690ad2-fc63-41ee-948d-ee624d3bfc40",
   "metadata": {},
   "source": [
    "PyTorch library for deep learning, which is required for running deep learning models, including LLMs. Required by Huggingface Transformers."
   ]
  },
  {
   "cell_type": "code",
   "execution_count": null,
   "id": "606b42f3-e0c8-4714-aad6-a8eda74358db",
   "metadata": {},
   "outputs": [],
   "source": [
    "!pip install -U torch"
   ]
  },
  {
   "cell_type": "markdown",
   "id": "268c49ba-bef8-4d3d-b0bb-fac3a9216a9a",
   "metadata": {},
   "source": [
    "Determine if the NVIDIA CUDA Toolkit is available."
   ]
  },
  {
   "cell_type": "code",
   "execution_count": null,
   "id": "c32d6488-cf93-41a3-b615-0e6f337c9cd2",
   "metadata": {},
   "outputs": [],
   "source": [
    "import torch\n",
    "\n",
    "print(torch.cuda.is_available())\n",
    "print(torch.version.cuda)"
   ]
  },
  {
   "cell_type": "markdown",
   "id": "38161c29-449b-4b2b-9801-b7b55467542e",
   "metadata": {},
   "source": [
    "NVIDIA GPU management and monitoring functions."
   ]
  },
  {
   "cell_type": "code",
   "execution_count": null,
   "id": "e522e8bd-8031-4af2-8e58-e7477dcf09fc",
   "metadata": {
    "tags": []
   },
   "outputs": [],
   "source": [
    "!pip install pynvml"
   ]
  },
  {
   "cell_type": "markdown",
   "id": "8f2ddd22-987c-4dee-b363-b359ce263b3d",
   "metadata": {},
   "source": [
    "Huggingface Transformers library for accessing pre-trained models."
   ]
  },
  {
   "cell_type": "code",
   "execution_count": null,
   "id": "98c6747a-28b8-49a0-8335-b6e99cc3e888",
   "metadata": {
    "tags": []
   },
   "outputs": [],
   "source": [
    "!pip install -U transformers"
   ]
  },
  {
   "cell_type": "markdown",
   "id": "771d12c9-187f-4762-a2a2-77bbb92cb66b",
   "metadata": {},
   "source": [
    "Log into Huggingface for accessing licensed models (e.g. Meta's Llama 2)."
   ]
  },
  {
   "cell_type": "code",
   "execution_count": null,
   "id": "8847b941-4db6-4e74-8a11-2b3f755174e4",
   "metadata": {},
   "outputs": [],
   "source": [
    "from huggingface_hub import login\n",
    "\n",
    "login()"
   ]
  },
  {
   "cell_type": "markdown",
   "id": "ff9ab6c0-9bfd-49c5-8a93-e9304fde8e1c",
   "metadata": {},
   "source": [
    "Modules for model quantization. This allows model weights to be reduced in size (bits) so that the models require less GPU memory."
   ]
  },
  {
   "cell_type": "code",
   "execution_count": null,
   "id": "ab928910-9963-4698-958c-5b5f49e98882",
   "metadata": {},
   "outputs": [],
   "source": [
    "!pip install -U accelerate bitsandbytes"
   ]
  },
  {
   "cell_type": "markdown",
   "id": "99f4649e-0c3b-460b-a5d4-73a79d115a37",
   "metadata": {},
   "source": [
    "Libraries for chaining LLM tasks."
   ]
  },
  {
   "cell_type": "code",
   "execution_count": null,
   "id": "23e3529d-6385-4d83-853c-4e99cd024b87",
   "metadata": {
    "tags": []
   },
   "outputs": [],
   "source": [
    "!pip install langchain langchain_community"
   ]
  },
  {
   "cell_type": "markdown",
   "id": "6eab940a-09fe-4f3d-84a3-c5c9f2ad5d57",
   "metadata": {},
   "source": [
    "Library for searching and downloading research papers for RAG (retrievel augmented generation) use cases."
   ]
  },
  {
   "cell_type": "code",
   "execution_count": null,
   "id": "038a917b-d8a8-4f8b-aee3-eef7cb5d68c6",
   "metadata": {},
   "outputs": [],
   "source": [
    "!pip install arxiv"
   ]
  },
  {
   "cell_type": "markdown",
   "id": "d1a7af1f-c0d2-463c-95b1-8786d5b4707f",
   "metadata": {},
   "source": [
    "Similarity search module developed by Meta's Fundamental AI Reseach group. Required for creating document indices for RAG use case. This vesion supports NVIDIA CUDA."
   ]
  },
  {
   "cell_type": "code",
   "execution_count": null,
   "id": "342e53db-98b0-4da2-9ffd-3637a0a3af88",
   "metadata": {},
   "outputs": [],
   "source": [
    "!pip install faiss-gpu"
   ]
  },
  {
   "cell_type": "code",
   "execution_count": 3,
   "id": "d3351a09-0903-44d7-84e7-bbf7cf4d8d08",
   "metadata": {
    "tags": []
   },
   "outputs": [
    {
     "name": "stdout",
     "output_type": "stream",
     "text": [
      "Defaulting to user installation because normal site-packages is not writeable\n",
      "Requirement already satisfied: packaging in /home/saxman/.local/lib/python3.10/site-packages (23.2)\n",
      "Defaulting to user installation because normal site-packages is not writeable\n",
      "Requirement already satisfied: ninja in /home/saxman/.local/lib/python3.10/site-packages (1.11.1.1)\n",
      "Defaulting to user installation because normal site-packages is not writeable\n",
      "Collecting flash-attn\n",
      "  Using cached flash_attn-2.5.5.tar.gz (2.5 MB)\n",
      "  Preparing metadata (setup.py) ... \u001b[?25ldone\n",
      "\u001b[?25hRequirement already satisfied: einops in /home/saxman/.local/lib/python3.10/site-packages (from flash-attn) (0.7.0)\n",
      "Requirement already satisfied: ninja in /home/saxman/.local/lib/python3.10/site-packages (from flash-attn) (1.11.1.1)\n",
      "Requirement already satisfied: packaging in /home/saxman/.local/lib/python3.10/site-packages (from flash-attn) (23.2)\n",
      "Requirement already satisfied: torch in /home/saxman/.local/lib/python3.10/site-packages (from flash-attn) (2.2.1)\n",
      "Requirement already satisfied: sympy in /home/saxman/.local/lib/python3.10/site-packages (from torch->flash-attn) (1.12)\n",
      "Requirement already satisfied: filelock in /home/saxman/.local/lib/python3.10/site-packages (from torch->flash-attn) (3.13.1)\n",
      "Requirement already satisfied: nvidia-cufft-cu12==11.0.2.54 in /home/saxman/.local/lib/python3.10/site-packages (from torch->flash-attn) (11.0.2.54)\n",
      "Requirement already satisfied: typing-extensions>=4.8.0 in /home/saxman/.local/lib/python3.10/site-packages (from torch->flash-attn) (4.9.0)\n",
      "Requirement already satisfied: nvidia-cusolver-cu12==11.4.5.107 in /home/saxman/.local/lib/python3.10/site-packages (from torch->flash-attn) (11.4.5.107)\n",
      "Requirement already satisfied: nvidia-nccl-cu12==2.19.3 in /home/saxman/.local/lib/python3.10/site-packages (from torch->flash-attn) (2.19.3)\n",
      "Requirement already satisfied: nvidia-cublas-cu12==12.1.3.1 in /home/saxman/.local/lib/python3.10/site-packages (from torch->flash-attn) (12.1.3.1)\n",
      "Requirement already satisfied: nvidia-cusparse-cu12==12.1.0.106 in /home/saxman/.local/lib/python3.10/site-packages (from torch->flash-attn) (12.1.0.106)\n",
      "Requirement already satisfied: nvidia-nvtx-cu12==12.1.105 in /home/saxman/.local/lib/python3.10/site-packages (from torch->flash-attn) (12.1.105)\n",
      "Requirement already satisfied: networkx in /home/saxman/.local/lib/python3.10/site-packages (from torch->flash-attn) (2.8.8)\n",
      "Requirement already satisfied: triton==2.2.0 in /home/saxman/.local/lib/python3.10/site-packages (from torch->flash-attn) (2.2.0)\n",
      "Requirement already satisfied: nvidia-cuda-runtime-cu12==12.1.105 in /home/saxman/.local/lib/python3.10/site-packages (from torch->flash-attn) (12.1.105)\n",
      "Requirement already satisfied: nvidia-cuda-nvrtc-cu12==12.1.105 in /home/saxman/.local/lib/python3.10/site-packages (from torch->flash-attn) (12.1.105)\n",
      "Requirement already satisfied: nvidia-cuda-cupti-cu12==12.1.105 in /home/saxman/.local/lib/python3.10/site-packages (from torch->flash-attn) (12.1.105)\n",
      "Requirement already satisfied: nvidia-cudnn-cu12==8.9.2.26 in /home/saxman/.local/lib/python3.10/site-packages (from torch->flash-attn) (8.9.2.26)\n",
      "Requirement already satisfied: jinja2 in /home/saxman/.local/lib/python3.10/site-packages (from torch->flash-attn) (3.1.3)\n",
      "Requirement already satisfied: fsspec in /home/saxman/.local/lib/python3.10/site-packages (from torch->flash-attn) (2023.12.2)\n",
      "Requirement already satisfied: nvidia-curand-cu12==10.3.2.106 in /home/saxman/.local/lib/python3.10/site-packages (from torch->flash-attn) (10.3.2.106)\n",
      "Requirement already satisfied: nvidia-nvjitlink-cu12 in /home/saxman/.local/lib/python3.10/site-packages (from nvidia-cusolver-cu12==11.4.5.107->torch->flash-attn) (12.3.101)\n",
      "Requirement already satisfied: MarkupSafe>=2.0 in /home/saxman/.local/lib/python3.10/site-packages (from jinja2->torch->flash-attn) (2.1.3)\n",
      "Requirement already satisfied: mpmath>=0.19 in /home/saxman/.local/lib/python3.10/site-packages (from sympy->torch->flash-attn) (1.3.0)\n",
      "Building wheels for collected packages: flash-attn\n",
      "  Building wheel for flash-attn (setup.py) ... \u001b[?25ldone\n",
      "\u001b[?25h  Created wheel for flash-attn: filename=flash_attn-2.5.5-py3-none-any.whl size=120592233 sha256=3fc5d8813904d32cfc77aa4b88d40169dbc12053edb6ee0f1d94159527d05ab0\n",
      "  Stored in directory: /home/saxman/.cache/pip/wheels/b2/67/52/8b6d5fcffdd9e1ec868f554cdef8f03eedb4bf4dcac852fca2\n",
      "Successfully built flash-attn\n",
      "Installing collected packages: flash-attn\n",
      "Successfully installed flash-attn-2.5.5\n"
     ]
    }
   ],
   "source": [
    "!pip install packaging\n",
    "!pip install ninja\n",
    "!FLASH_ATTENTION_SKIP_CUDA_BUILD=TRUE pip install flash-attn --no-build-isolation"
   ]
  },
  {
   "cell_type": "code",
   "execution_count": 1,
   "id": "84d1a65f-b75a-4405-8fdb-fa423fb2a5f3",
   "metadata": {
    "tags": []
   },
   "outputs": [
    {
     "name": "stdout",
     "output_type": "stream",
     "text": [
      "Defaulting to user installation because normal site-packages is not writeable\n",
      "Collecting tinydb\n",
      "  Downloading tinydb-4.8.0-py3-none-any.whl (24 kB)\n",
      "Installing collected packages: tinydb\n",
      "Successfully installed tinydb-4.8.0\n"
     ]
    }
   ],
   "source": [
    "!pip install tinydb"
   ]
  },
  {
   "cell_type": "code",
   "execution_count": null,
   "id": "3a27ec79-f5aa-4676-9d80-3a31c8d30e5e",
   "metadata": {},
   "outputs": [],
   "source": []
  }
 ],
 "metadata": {
  "kernelspec": {
   "display_name": "Python 3 (ipykernel)",
   "language": "python",
   "name": "python3"
  },
  "language_info": {
   "codemirror_mode": {
    "name": "ipython",
    "version": 3
   },
   "file_extension": ".py",
   "mimetype": "text/x-python",
   "name": "python",
   "nbconvert_exporter": "python",
   "pygments_lexer": "ipython3",
   "version": "3.10.12"
  }
 },
 "nbformat": 4,
 "nbformat_minor": 5
}
